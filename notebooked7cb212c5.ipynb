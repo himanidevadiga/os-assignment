{
  "metadata": {
    "kernelspec": {
      "language": "python",
      "display_name": "Python 3",
      "name": "python3"
    },
    "language_info": {
      "pygments_lexer": "ipython3",
      "nbconvert_exporter": "python",
      "version": "3.6.4",
      "file_extension": ".py",
      "codemirror_mode": {
        "name": "ipython",
        "version": 3
      },
      "name": "python",
      "mimetype": "text/x-python"
    },
    "kaggle": {
      "accelerator": "none",
      "dataSources": [],
      "isInternetEnabled": false,
      "language": "python",
      "sourceType": "notebook",
      "isGpuEnabled": false
    },
    "colab": {
      "name": "notebooked7cb212c5",
      "provenance": [],
      "include_colab_link": true
    }
  },
  "nbformat_minor": 0,
  "nbformat": 4,
  "cells": [
    {
      "cell_type": "markdown",
      "metadata": {
        "id": "view-in-github",
        "colab_type": "text"
      },
      "source": [
        "<a href=\"https://colab.research.google.com/github/himanidevadiga/os-assignment/blob/main/notebooked7cb212c5.ipynb\" target=\"_parent\"><img src=\"https://colab.research.google.com/assets/colab-badge.svg\" alt=\"Open In Colab\"/></a>"
      ]
    },
    {
      "cell_type": "code",
      "source": [
        "#include <stdio.h>\n",
        "\n",
        "int main() {\n",
        "    float num1, num2;\n",
        "    char operator;\n",
        "\n",
        "    // Get user input for two numbers and the operator\n",
        "    printf(\"Enter the first number: \");\n",
        "    scanf(\"%f\", &num1);\n",
        "\n",
        "    printf(\"Enter the operator (+, -, *, /): \");\n",
        "    scanf(\" %c\", &operator); // The space before %c is to consume any leftover newline character\n",
        "\n",
        "    printf(\"Enter the second number: \");\n",
        "    scanf(\"%f\", &num2);\n",
        "\n",
        "    // Perform the arithmetic operation based on the operator entered\n",
        "    switch (operator) {\n",
        "        case '+':\n",
        "            printf(\"%.2f + %.2f = %.2f\\n\", num1, num2, num1 + num2);\n",
        "            break;\n",
        "        case '-':\n",
        "            printf(\"%.2f - %.2f = %.2f\\n\", num1, num2, num1 - num2);\n",
        "            break;\n",
        "        case '*':\n",
        "            printf(\"%.2f * %.2f = %.2f\\n\", num1, num2, num1 * num2);\n",
        "            break;\n",
        "        case '/':\n",
        "            if (num2 != 0) {\n",
        "                printf(\"%.2f / %.2f = %.2f\\n\", num1, num2, num1 / num2);\n",
        "            } else {\n",
        "                printf(\"Error! Division by zero is not allowed.\\n\");\n",
        "            }\n",
        "            break;\n",
        "        default:\n",
        "            printf(\"Error! Invalid operator.\\n\");\n",
        "            break;\n",
        "    }\n",
        "\n",
        "    return 0;\n",
        "}\n"
      ],
      "metadata": {
        "_uuid": "8f2839f25d086af736a60e9eeb907d3b93b6e0e5",
        "_cell_guid": "b1076dfc-b9ad-4769-8c92-a6c4dae69d19",
        "trusted": true,
        "id": "v1VL6j_74SG6"
      },
      "outputs": [],
      "execution_count": null
    }
  ]
}